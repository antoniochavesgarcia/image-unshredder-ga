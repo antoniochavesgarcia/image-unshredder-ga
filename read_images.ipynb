{
 "cells": [
  {
   "cell_type": "code",
   "execution_count": 11,
   "id": "2333f782",
   "metadata": {},
   "outputs": [],
   "source": [
    "import numpy as np\n",
    "import pandas as pd\n",
    "from PIL import Image"
   ]
  },
  {
   "cell_type": "code",
   "execution_count": 20,
   "id": "c039c0e1",
   "metadata": {},
   "outputs": [],
   "source": [
    "IMAGE_NUM = 2\n",
    "DISTANCE = \"euclidean\""
   ]
  },
  {
   "cell_type": "code",
   "execution_count": 21,
   "id": "bd936477",
   "metadata": {},
   "outputs": [],
   "source": [
    "df = pd.read_csv(f'images\\\\{IMAGE_NUM}\\\\shuffled.txt', sep=' ', header=None, index_col=False)\n",
    "df.drop(df.columns[len(df.columns)-1], axis=1, inplace=True)\n",
    "\n",
    "row_order = pd.read_csv(f'images\\\\{IMAGE_NUM}\\\\{DISTANCE}\\\\row_order.csv')\n",
    "\n",
    "for iter in range(3):\n",
    "    ordered_df = df.reindex(row_order.iloc[:,iter])\n",
    "    restored_image = Image.fromarray(ordered_df.to_numpy().astype(np.uint8))\n",
    "    restored_image.save(f'images\\\\{IMAGE_NUM}\\\\{DISTANCE}\\\\nice_{ordered_df.index.name[1:]}_{DISTANCE}.png')"
   ]
  }
 ],
 "metadata": {
  "interpreter": {
   "hash": "ab380f8f628a9420aaecfede31fa2c62e52587ddaf91101e5eb8a780b86770d5"
  },
  "kernelspec": {
   "display_name": "Python 3.8.10 64-bit ('env': venv)",
   "language": "python",
   "name": "python3"
  },
  "language_info": {
   "codemirror_mode": {
    "name": "ipython",
    "version": 3
   },
   "file_extension": ".py",
   "mimetype": "text/x-python",
   "name": "python",
   "nbconvert_exporter": "python",
   "pygments_lexer": "ipython3",
   "version": "3.8.10"
  }
 },
 "nbformat": 4,
 "nbformat_minor": 5
}
